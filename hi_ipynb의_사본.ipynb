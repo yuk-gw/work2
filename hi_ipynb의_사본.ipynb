{
  "nbformat": 4,
  "nbformat_minor": 0,
  "metadata": {
    "colab": {
      "name": "hi.ipynb의 사본",
      "provenance": [],
      "collapsed_sections": [],
      "authorship_tag": "ABX9TyNlXkJnKEBHZXNdPfx7i648",
      "include_colab_link": true
    },
    "kernelspec": {
      "name": "python3",
      "display_name": "Python 3"
    },
    "language_info": {
      "name": "python"
    }
  },
  "cells": [
    {
      "cell_type": "markdown",
      "metadata": {
        "id": "view-in-github",
        "colab_type": "text"
      },
      "source": [
        "<a href=\"https://colab.research.google.com/github/yuk-gw/work2/blob/master/hi_ipynb%EC%9D%98_%EC%82%AC%EB%B3%B8.ipynb\" target=\"_parent\"><img src=\"https://colab.research.google.com/assets/colab-badge.svg\" alt=\"Open In Colab\"/></a>"
      ]
    },
    {
      "cell_type": "code",
      "execution_count": null,
      "metadata": {
        "colab": {
          "base_uri": "https://localhost:8080/"
        },
        "id": "QQ4Tf8c8ztFx",
        "outputId": "df2f31fe-c7b3-42b9-d1f7-def909e3ead6"
      },
      "outputs": [
        {
          "output_type": "stream",
          "name": "stdout",
          "text": [
            "hello, tpody i'll be your mom\n"
          ]
        }
      ],
      "source": [
        "import os\n",
        "\n",
        "a = 10\n",
        "\n",
        "print(\"우리집 강아지는 깊둥이 강아지, 학교갔다 돌아오면 멍멍머\")"
      ]
    },
    {
      "cell_type": "code",
      "source": [
        ""
      ],
      "metadata": {
        "id": "6xGEfZD6xpij"
      },
      "execution_count": null,
      "outputs": []
    },
    {
      "cell_type": "code",
      "source": [
        ""
      ],
      "metadata": {
        "id": "sVEE43B9ZyHG"
      },
      "execution_count": null,
      "outputs": []
    },
    {
      "cell_type": "markdown",
      "source": [
        "# 새로운 섹션을 시작합니다.\n",
        "여러분들께서 이 글을 보신다면\n"
      ],
      "metadata": {
        "id": "sVghKromuJeO"
      }
    },
    {
      "cell_type": "markdown",
      "source": [
        "# 새 섹션"
      ],
      "metadata": {
        "id": "bO2hF1nquOL0"
      }
    },
    {
      "cell_type": "markdown",
      "source": [
        "<h1>헬로우 브라더</h1>"
      ],
      "metadata": {
        "id": "-WbgJw-Pz8L9"
      }
    }
  ]
}